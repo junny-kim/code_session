{
 "cells": [
  {
   "cell_type": "markdown",
   "metadata": {},
   "source": [
    "# MNIST handwritten digits classification with MLPs\n",
    "\n",
    "In this notebook, we'll train a multi-layer perceptron model to classify MNIST digits using **PyTorch**. \n",
    "\n",
    "First, the needed imports. "
   ]
  },
  {
   "cell_type": "code",
   "execution_count": 1,
   "metadata": {},
   "outputs": [
    {
     "name": "stdout",
     "output_type": "stream",
     "text": [
      "Using PyTorch version: 0.4.0 CUDA: True\n"
     ]
    }
   ],
   "source": [
    "%matplotlib inline\n",
    "\n",
    "import torch\n",
    "import torch.nn as nn\n",
    "import torch.nn.functional as F\n",
    "import torch.optim as optim\n",
    "from torchvision import datasets, transforms\n",
    "from torch.autograd import Variable\n",
    "\n",
    "import numpy as np\n",
    "import matplotlib.pyplot as plt\n",
    "\n",
    "cuda = torch.cuda.is_available()\n",
    "print('Using PyTorch version:', torch.__version__, 'CUDA:', cuda)\n",
    "\n",
    "#torch.manual_seed(42)\n",
    "#if cuda:\n",
    "#    torch.cuda.manual_seed(42)"
   ]
  },
  {
   "cell_type": "markdown",
   "metadata": {},
   "source": [
    "## Data\n",
    "\n",
    "Next we'll load the MNIST data.  First time we may have to download the data, which can take a while.\n",
    "\n",
    "Note that we are here using the MNIST test data for *validation*, instead of for testing the final model."
   ]
  },
  {
   "cell_type": "code",
   "execution_count": 2,
   "metadata": {},
   "outputs": [
    {
     "name": "stdout",
     "output_type": "stream",
     "text": [
      "Downloading http://yann.lecun.com/exdb/mnist/train-images-idx3-ubyte.gz\n",
      "Downloading http://yann.lecun.com/exdb/mnist/train-labels-idx1-ubyte.gz\n",
      "Downloading http://yann.lecun.com/exdb/mnist/t10k-images-idx3-ubyte.gz\n",
      "Downloading http://yann.lecun.com/exdb/mnist/t10k-labels-idx1-ubyte.gz\n",
      "Processing...\n",
      "Done!\n"
     ]
    }
   ],
   "source": [
    "batch_size = 32\n",
    "\n",
    "kwargs = {'num_workers': 1, 'pin_memory': True} if cuda else {}\n",
    "\n",
    "train_loader = torch.utils.data.DataLoader(\n",
    "    datasets.MNIST('../data', train=True, download=True,\n",
    "                   transform=transforms.Compose([\n",
    "                       transforms.ToTensor(),\n",
    "                       transforms.Normalize((0.1307,), (0.3081,))\n",
    "                   ])),\n",
    "    batch_size=batch_size, shuffle=True, **kwargs)\n",
    "\n",
    "validation_loader = torch.utils.data.DataLoader(\n",
    "    datasets.MNIST('../data', train=False, transform=transforms.Compose([\n",
    "                       transforms.ToTensor(),\n",
    "                       transforms.Normalize((0.1307,), (0.3081,))\n",
    "                   ])),\n",
    "    batch_size=batch_size, shuffle=False, **kwargs)"
   ]
  },
  {
   "cell_type": "markdown",
   "metadata": {},
   "source": [
    "The train and test data are provided via data loaders that provide iterators over the datasets. The first element of training data (`X_train`) is a 4th-order tensor of size (`batch_size`, 1, 28, 28), i.e. it consists of a batch of images of size 1x28x28 pixels. `y_train` is a vector containing the correct classes (\"0\", \"1\", ..., \"9\") for each training digit."
   ]
  },
  {
   "cell_type": "code",
   "execution_count": 3,
   "metadata": {},
   "outputs": [
    {
     "name": "stdout",
     "output_type": "stream",
     "text": [
      "X_train: torch.Size([32, 1, 28, 28]) type: torch.FloatTensor\n",
      "y_train: torch.Size([32]) type: torch.LongTensor\n"
     ]
    }
   ],
   "source": [
    "for (X_train, y_train) in train_loader:\n",
    "    print('X_train:', X_train.size(), 'type:', X_train.type())\n",
    "    print('y_train:', y_train.size(), 'type:', y_train.type())\n",
    "    break"
   ]
  },
  {
   "cell_type": "markdown",
   "metadata": {},
   "source": [
    "Here are the first 10 training digits:"
   ]
  },
  {
   "cell_type": "code",
   "execution_count": 4,
   "metadata": {},
   "outputs": [
    {
     "data": {
      "image/png": "[encoded data removed]",
      "text/plain": [
       "<Figure size 720x72 with 10 Axes>"
      ]
     },
     "metadata": {
      "needs_background": "light"
     },
     "output_type": "display_data"
    }
   ],
   "source": [
    "pltsize=1\n",
    "plt.figure(figsize=(10*pltsize, pltsize))\n",
    "\n",
    "for i in range(10):\n",
    "    plt.subplot(1,10,i+1)\n",
    "    plt.axis('off')\n",
    "    plt.imshow(X_train[i,:,:,:].numpy().reshape(28,28), cmap=\"gray\")\n",
    "    plt.title('Class: '+str(y_train[i]))"
   ]
  },
  {
   "cell_type": "markdown",
   "metadata": {},
   "source": [
    "## MLP network definition\n",
    "\n",
    "Let's define the network as a Python class.  We have to write the `__init__()` and `forward()` methods, and PyTorch will automatically generate a `backward()` method for computing the gradients for the backward pass.\n",
    "\n",
    "Finally, we define an optimizer to update the model parameters based on the computed gradients.  We select *stochastic gradient descent (with momentum)* as the optimization algorithm, and set *learning rate* to 0.01.  Note that there are [several different options](http://pytorch.org/docs/optim.html#algorithms) for the optimizer in PyTorch that we could use instead of *SGD*."
   ]
  },
  {
   "cell_type": "code",
   "execution_count": 5,
   "metadata": {},
   "outputs": [
    {
     "name": "stdout",
     "output_type": "stream",
     "text": [
      "Net(\n",
      "  (fc1): Linear(in_features=784, out_features=50, bias=True)\n",
      "  (fc1_drop): Dropout(p=0.2)\n",
      "  (fc2): Linear(in_features=50, out_features=50, bias=True)\n",
      "  (fc2_drop): Dropout(p=0.2)\n",
      "  (fc3): Linear(in_features=50, out_features=10, bias=True)\n",
      ")\n"
     ]
    }
   ],
   "source": [
    "class Net(nn.Module):\n",
    "    def __init__(self):\n",
    "        super(Net, self).__init__()\n",
    "        self.fc1 = nn.Linear(28*28, 50)\n",
    "        self.fc1_drop = nn.Dropout(0.2)\n",
    "        self.fc2 = nn.Linear(50, 50)\n",
    "        self.fc2_drop = nn.Dropout(0.2)\n",
    "        self.fc3 = nn.Linear(50, 10)\n",
    "\n",
    "    def forward(self, x):\n",
    "        x = x.view(-1, 28*28)\n",
    "        x = F.relu(self.fc1(x))\n",
    "        x = self.fc1_drop(x)\n",
    "        x = F.relu(self.fc2(x))\n",
    "        x = self.fc2_drop(x)\n",
    "        return F.log_softmax(self.fc3(x))\n",
    "\n",
    "model = Net()\n",
    "if cuda:\n",
    "    model.cuda()\n",
    "    \n",
    "optimizer = optim.SGD(model.parameters(), lr=0.01)\n",
    "\n",
    "print(model)"
   ]
  },
  {
   "cell_type": "markdown",
   "metadata": {},
   "source": [
    "## Learning\n",
    "\n",
    "Let's now define functions to `train()` and `test()` the model. "
   ]
  },
  {
   "cell_type": "code",
   "execution_count": 6,
   "metadata": {},
   "outputs": [],
   "source": [
    "def train(epoch, log_interval=100):\n",
    "    model.train()\n",
    "    for batch_idx, (data, target) in enumerate(train_loader):\n",
    "        if cuda:\n",
    "            data, target = data.cuda(), target.cuda()\n",
    "        data, target = Variable(data), Variable(target)\n",
    "        optimizer.zero_grad()\n",
    "        output = model(data)\n",
    "        loss = F.nll_loss(output, target)\n",
    "        loss.backward()\n",
    "        optimizer.step()\n",
    "        if batch_idx % log_interval == 0:\n",
    "            print('Train Epoch: {} [{}/{} ({:.0f}%)]\\tLoss: {:.6f}'.format(\n",
    "                epoch, batch_idx * len(data), len(train_loader.dataset),\n",
    "                100. * batch_idx / len(train_loader), loss.data[0]))"
   ]
  },
  {
   "cell_type": "code",
   "execution_count": 7,
   "metadata": {},
   "outputs": [],
   "source": [
    "def validate(loss_vector, accuracy_vector):\n",
    "    model.eval()\n",
    "    val_loss, correct = 0, 0\n",
    "    for data, target in validation_loader:\n",
    "        if cuda:\n",
    "            data, target = data.cuda(), target.cuda()\n",
    "        data, target = Variable(data, volatile=True), Variable(target)\n",
    "        output = model(data)\n",
    "        val_loss += F.nll_loss(output, target).data[0]\n",
    "        pred = output.data.max(1)[1] # get the index of the max log-probability\n",
    "        correct += pred.eq(target.data).cpu().sum()\n",
    "\n",
    "    val_loss /= len(validation_loader)\n",
    "    loss_vector.append(val_loss)\n",
    "\n",
    "    accuracy = 100. * correct / len(validation_loader.dataset)\n",
    "    accuracy_vector.append(accuracy)\n",
    "    \n",
    "    print('\\nValidation set: Average loss: {:.4f}, Accuracy: {}/{} ({:.0f}%)\\n'.format(\n",
    "        val_loss, correct, len(validation_loader.dataset), accuracy))"
   ]
  },
  {
   "cell_type": "markdown",
   "metadata": {},
   "source": [
    "Now we are ready to train our model using the `train()` function.  An *epoch* means one pass through the whole training data. After each epoch, we evaluate the model using `test()`. "
   ]
  },
  {
   "cell_type": "code",
   "execution_count": 8,
   "metadata": {},
   "outputs": [
    {
     "name": "stderr",
     "output_type": "stream",
     "text": [
      "/home/junny/anaconda3/envs/code_session/lib/python3.6/site-packages/ipykernel_launcher.py:16: UserWarning: Implicit dimension choice for log_softmax has been deprecated. Change the call to include dim=X as an argument.\n",
      "  app.launch_new_instance()\n",
      "/home/junny/anaconda3/envs/code_session/lib/python3.6/site-packages/ipykernel_launcher.py:15: UserWarning: invalid index of a 0-dim tensor. This will be an error in PyTorch 0.5. Use tensor.item() to convert a 0-dim tensor to a Python number\n",
      "  from ipykernel import kernelapp as app\n"
     ]
    },
    {
     "name": "stdout",
     "output_type": "stream",
     "text": [
      "Train Epoch: 1 [0/60000 (0%)]\tLoss: 2.288293\n",
      "Train Epoch: 1 [3200/60000 (5%)]\tLoss: 2.135673\n",
      "Train Epoch: 1 [6400/60000 (11%)]\tLoss: 1.543976\n",
      "Train Epoch: 1 [9600/60000 (16%)]\tLoss: 1.030079\n",
      "Train Epoch: 1 [12800/60000 (21%)]\tLoss: 1.011133\n",
      "Train Epoch: 1 [16000/60000 (27%)]\tLoss: 0.748989\n",
      "Train Epoch: 1 [19200/60000 (32%)]\tLoss: 0.895010\n",
      "Train Epoch: 1 [22400/60000 (37%)]\tLoss: 0.710413\n",
      "Train Epoch: 1 [25600/60000 (43%)]\tLoss: 0.767389\n",
      "Train Epoch: 1 [28800/60000 (48%)]\tLoss: 0.810629\n",
      "Train Epoch: 1 [32000/60000 (53%)]\tLoss: 0.426286\n",
      "Train Epoch: 1 [35200/60000 (59%)]\tLoss: 0.554145\n",
      "Train Epoch: 1 [38400/60000 (64%)]\tLoss: 0.674163\n",
      "Train Epoch: 1 [41600/60000 (69%)]\tLoss: 0.324517\n",
      "Train Epoch: 1 [44800/60000 (75%)]\tLoss: 0.821185\n",
      "Train Epoch: 1 [48000/60000 (80%)]\tLoss: 0.298282\n",
      "Train Epoch: 1 [51200/60000 (85%)]\tLoss: 0.638260\n",
      "Train Epoch: 1 [54400/60000 (91%)]\tLoss: 0.773426\n",
      "Train Epoch: 1 [57600/60000 (96%)]\tLoss: 0.766047\n"
     ]
    },
    {
     "name": "stderr",
     "output_type": "stream",
     "text": [
      "/home/junny/anaconda3/envs/code_session/lib/python3.6/site-packages/ipykernel_launcher.py:7: UserWarning: volatile was removed and now has no effect. Use `with torch.no_grad():` instead.\n",
      "  import sys\n",
      "/home/junny/anaconda3/envs/code_session/lib/python3.6/site-packages/ipykernel_launcher.py:9: UserWarning: invalid index of a 0-dim tensor. This will be an error in PyTorch 0.5. Use tensor.item() to convert a 0-dim tensor to a Python number\n",
      "  if __name__ == '__main__':\n"
     ]
    },
    {
     "name": "stdout",
     "output_type": "stream",
     "text": [
      "\n",
      "Validation set: Average loss: 0.3101, Accuracy: 9094/10000 (90%)\n",
      "\n",
      "Train Epoch: 2 [0/60000 (0%)]\tLoss: 0.637402\n",
      "Train Epoch: 2 [3200/60000 (5%)]\tLoss: 0.520893\n",
      "Train Epoch: 2 [6400/60000 (11%)]\tLoss: 0.481638\n",
      "Train Epoch: 2 [9600/60000 (16%)]\tLoss: 0.344016\n",
      "Train Epoch: 2 [12800/60000 (21%)]\tLoss: 0.511155\n",
      "Train Epoch: 2 [16000/60000 (27%)]\tLoss: 0.318445\n",
      "Train Epoch: 2 [19200/60000 (32%)]\tLoss: 0.149644\n",
      "Train Epoch: 2 [22400/60000 (37%)]\tLoss: 0.528509\n",
      "Train Epoch: 2 [25600/60000 (43%)]\tLoss: 0.512982\n",
      "Train Epoch: 2 [28800/60000 (48%)]\tLoss: 0.403993\n",
      "Train Epoch: 2 [32000/60000 (53%)]\tLoss: 0.306976\n",
      "Train Epoch: 2 [35200/60000 (59%)]\tLoss: 0.239222\n",
      "Train Epoch: 2 [38400/60000 (64%)]\tLoss: 0.408757\n",
      "Train Epoch: 2 [41600/60000 (69%)]\tLoss: 0.405315\n",
      "Train Epoch: 2 [44800/60000 (75%)]\tLoss: 0.218886\n",
      "Train Epoch: 2 [48000/60000 (80%)]\tLoss: 0.474091\n",
      "Train Epoch: 2 [51200/60000 (85%)]\tLoss: 0.267352\n",
      "Train Epoch: 2 [54400/60000 (91%)]\tLoss: 0.149619\n",
      "Train Epoch: 2 [57600/60000 (96%)]\tLoss: 0.479495\n",
      "\n",
      "Validation set: Average loss: 0.2299, Accuracy: 9307/10000 (93%)\n",
      "\n",
      "Train Epoch: 3 [0/60000 (0%)]\tLoss: 0.363606\n",
      "Train Epoch: 3 [3200/60000 (5%)]\tLoss: 0.176091\n",
      "Train Epoch: 3 [6400/60000 (11%)]\tLoss: 0.225220\n",
      "Train Epoch: 3 [9600/60000 (16%)]\tLoss: 0.335469\n",
      "Train Epoch: 3 [12800/60000 (21%)]\tLoss: 0.331168\n",
      "Train Epoch: 3 [16000/60000 (27%)]\tLoss: 0.190482\n",
      "Train Epoch: 3 [19200/60000 (32%)]\tLoss: 0.566917\n",
      "Train Epoch: 3 [22400/60000 (37%)]\tLoss: 0.160824\n",
      "Train Epoch: 3 [25600/60000 (43%)]\tLoss: 0.154001\n",
      "Train Epoch: 3 [28800/60000 (48%)]\tLoss: 0.481153\n",
      "Train Epoch: 3 [32000/60000 (53%)]\tLoss: 0.229387\n",
      "Train Epoch: 3 [35200/60000 (59%)]\tLoss: 0.442516\n",
      "Train Epoch: 3 [38400/60000 (64%)]\tLoss: 0.272945\n",
      "Train Epoch: 3 [41600/60000 (69%)]\tLoss: 0.242515\n",
      "Train Epoch: 3 [44800/60000 (75%)]\tLoss: 0.456426\n",
      "Train Epoch: 3 [48000/60000 (80%)]\tLoss: 0.226371\n",
      "Train Epoch: 3 [51200/60000 (85%)]\tLoss: 0.334601\n",
      "Train Epoch: 3 [54400/60000 (91%)]\tLoss: 0.222724\n",
      "Train Epoch: 3 [57600/60000 (96%)]\tLoss: 0.189383\n",
      "\n",
      "Validation set: Average loss: 0.1912, Accuracy: 9422/10000 (94%)\n",
      "\n",
      "Train Epoch: 4 [0/60000 (0%)]\tLoss: 0.204426\n",
      "Train Epoch: 4 [3200/60000 (5%)]\tLoss: 0.277519\n",
      "Train Epoch: 4 [6400/60000 (11%)]\tLoss: 0.178688\n",
      "Train Epoch: 4 [9600/60000 (16%)]\tLoss: 0.407340\n",
      "Train Epoch: 4 [12800/60000 (21%)]\tLoss: 0.072817\n",
      "Train Epoch: 4 [16000/60000 (27%)]\tLoss: 0.190274\n",
      "Train Epoch: 4 [19200/60000 (32%)]\tLoss: 0.429658\n",
      "Train Epoch: 4 [22400/60000 (37%)]\tLoss: 0.220945\n",
      "Train Epoch: 4 [25600/60000 (43%)]\tLoss: 0.514565\n",
      "Train Epoch: 4 [28800/60000 (48%)]\tLoss: 0.223937\n",
      "Train Epoch: 4 [32000/60000 (53%)]\tLoss: 0.156921\n",
      "Train Epoch: 4 [35200/60000 (59%)]\tLoss: 0.258096\n",
      "Train Epoch: 4 [38400/60000 (64%)]\tLoss: 0.564921\n",
      "Train Epoch: 4 [41600/60000 (69%)]\tLoss: 0.296827\n",
      "Train Epoch: 4 [44800/60000 (75%)]\tLoss: 0.197196\n",
      "Train Epoch: 4 [48000/60000 (80%)]\tLoss: 0.194718\n",
      "Train Epoch: 4 [51200/60000 (85%)]\tLoss: 0.112155\n",
      "Train Epoch: 4 [54400/60000 (91%)]\tLoss: 0.058952\n",
      "Train Epoch: 4 [57600/60000 (96%)]\tLoss: 0.259823\n",
      "\n",
      "Validation set: Average loss: 0.1719, Accuracy: 9477/10000 (94%)\n",
      "\n",
      "Train Epoch: 5 [0/60000 (0%)]\tLoss: 0.077748\n",
      "Train Epoch: 5 [3200/60000 (5%)]\tLoss: 0.332515\n",
      "Train Epoch: 5 [6400/60000 (11%)]\tLoss: 0.266876\n",
      "Train Epoch: 5 [9600/60000 (16%)]\tLoss: 0.183102\n",
      "Train Epoch: 5 [12800/60000 (21%)]\tLoss: 0.283154\n",
      "Train Epoch: 5 [16000/60000 (27%)]\tLoss: 0.116519\n",
      "Train Epoch: 5 [19200/60000 (32%)]\tLoss: 0.168044\n",
      "Train Epoch: 5 [22400/60000 (37%)]\tLoss: 0.209717\n",
      "Train Epoch: 5 [25600/60000 (43%)]\tLoss: 0.131776\n",
      "Train Epoch: 5 [28800/60000 (48%)]\tLoss: 0.341060\n",
      "Train Epoch: 5 [32000/60000 (53%)]\tLoss: 0.295750\n",
      "Train Epoch: 5 [35200/60000 (59%)]\tLoss: 0.061984\n",
      "Train Epoch: 5 [38400/60000 (64%)]\tLoss: 0.658003\n",
      "Train Epoch: 5 [41600/60000 (69%)]\tLoss: 0.533137\n",
      "Train Epoch: 5 [44800/60000 (75%)]\tLoss: 0.261011\n",
      "Train Epoch: 5 [48000/60000 (80%)]\tLoss: 0.189336\n",
      "Train Epoch: 5 [51200/60000 (85%)]\tLoss: 0.215611\n",
      "Train Epoch: 5 [54400/60000 (91%)]\tLoss: 0.140915\n",
      "Train Epoch: 5 [57600/60000 (96%)]\tLoss: 0.195643\n",
      "\n",
      "Validation set: Average loss: 0.1513, Accuracy: 9548/10000 (95%)\n",
      "\n",
      "Train Epoch: 6 [0/60000 (0%)]\tLoss: 0.242604\n",
      "Train Epoch: 6 [3200/60000 (5%)]\tLoss: 0.170493\n",
      "Train Epoch: 6 [6400/60000 (11%)]\tLoss: 0.140710\n",
      "Train Epoch: 6 [9600/60000 (16%)]\tLoss: 0.315557\n",
      "Train Epoch: 6 [12800/60000 (21%)]\tLoss: 0.376057\n",
      "Train Epoch: 6 [16000/60000 (27%)]\tLoss: 0.167951\n",
      "Train Epoch: 6 [19200/60000 (32%)]\tLoss: 0.098532\n",
      "Train Epoch: 6 [22400/60000 (37%)]\tLoss: 0.372670\n",
      "Train Epoch: 6 [25600/60000 (43%)]\tLoss: 0.317825\n",
      "Train Epoch: 6 [28800/60000 (48%)]\tLoss: 0.116582\n",
      "Train Epoch: 6 [32000/60000 (53%)]\tLoss: 0.230896\n",
      "Train Epoch: 6 [35200/60000 (59%)]\tLoss: 0.222016\n",
      "Train Epoch: 6 [38400/60000 (64%)]\tLoss: 0.257628\n",
      "Train Epoch: 6 [41600/60000 (69%)]\tLoss: 0.285011\n",
      "Train Epoch: 6 [44800/60000 (75%)]\tLoss: 0.158198\n",
      "Train Epoch: 6 [48000/60000 (80%)]\tLoss: 0.438817\n",
      "Train Epoch: 6 [51200/60000 (85%)]\tLoss: 0.170972\n",
      "Train Epoch: 6 [54400/60000 (91%)]\tLoss: 0.135938\n",
      "Train Epoch: 6 [57600/60000 (96%)]\tLoss: 0.183352\n",
      "\n",
      "Validation set: Average loss: 0.1364, Accuracy: 9584/10000 (95%)\n",
      "\n",
      "Train Epoch: 7 [0/60000 (0%)]\tLoss: 0.124825\n",
      "Train Epoch: 7 [3200/60000 (5%)]\tLoss: 0.219480\n",
      "Train Epoch: 7 [6400/60000 (11%)]\tLoss: 0.267687\n",
      "Train Epoch: 7 [9600/60000 (16%)]\tLoss: 0.183379\n",
      "Train Epoch: 7 [12800/60000 (21%)]\tLoss: 0.092340\n",
      "Train Epoch: 7 [16000/60000 (27%)]\tLoss: 0.189668\n",
      "Train Epoch: 7 [19200/60000 (32%)]\tLoss: 0.108904\n",
      "Train Epoch: 7 [22400/60000 (37%)]\tLoss: 0.425707\n",
      "Train Epoch: 7 [25600/60000 (43%)]\tLoss: 0.150990\n",
      "Train Epoch: 7 [28800/60000 (48%)]\tLoss: 0.160772\n",
      "Train Epoch: 7 [32000/60000 (53%)]\tLoss: 0.195264\n",
      "Train Epoch: 7 [35200/60000 (59%)]\tLoss: 0.263362\n",
      "Train Epoch: 7 [38400/60000 (64%)]\tLoss: 0.074619\n",
      "Train Epoch: 7 [41600/60000 (69%)]\tLoss: 0.230627\n",
      "Train Epoch: 7 [44800/60000 (75%)]\tLoss: 0.335551\n",
      "Train Epoch: 7 [48000/60000 (80%)]\tLoss: 0.243318\n",
      "Train Epoch: 7 [51200/60000 (85%)]\tLoss: 0.245581\n",
      "Train Epoch: 7 [54400/60000 (91%)]\tLoss: 0.110620\n",
      "Train Epoch: 7 [57600/60000 (96%)]\tLoss: 0.138308\n",
      "\n",
      "Validation set: Average loss: 0.1292, Accuracy: 9594/10000 (95%)\n",
      "\n",
      "Train Epoch: 8 [0/60000 (0%)]\tLoss: 0.285599\n",
      "Train Epoch: 8 [3200/60000 (5%)]\tLoss: 0.188762\n",
      "Train Epoch: 8 [6400/60000 (11%)]\tLoss: 0.084579\n",
      "Train Epoch: 8 [9600/60000 (16%)]\tLoss: 0.166894\n",
      "Train Epoch: 8 [12800/60000 (21%)]\tLoss: 0.286558\n",
      "Train Epoch: 8 [16000/60000 (27%)]\tLoss: 0.069757\n",
      "Train Epoch: 8 [19200/60000 (32%)]\tLoss: 0.295621\n",
      "Train Epoch: 8 [22400/60000 (37%)]\tLoss: 0.265853\n",
      "Train Epoch: 8 [25600/60000 (43%)]\tLoss: 0.203929\n",
      "Train Epoch: 8 [28800/60000 (48%)]\tLoss: 0.348204\n",
      "Train Epoch: 8 [32000/60000 (53%)]\tLoss: 0.413520\n",
      "Train Epoch: 8 [35200/60000 (59%)]\tLoss: 0.028057\n",
      "Train Epoch: 8 [38400/60000 (64%)]\tLoss: 0.405832\n",
      "Train Epoch: 8 [41600/60000 (69%)]\tLoss: 0.153954\n",
      "Train Epoch: 8 [44800/60000 (75%)]\tLoss: 0.100041\n",
      "Train Epoch: 8 [48000/60000 (80%)]\tLoss: 0.143376\n",
      "Train Epoch: 8 [51200/60000 (85%)]\tLoss: 0.072104\n",
      "Train Epoch: 8 [54400/60000 (91%)]\tLoss: 0.102463\n",
      "Train Epoch: 8 [57600/60000 (96%)]\tLoss: 0.204704\n",
      "\n",
      "Validation set: Average loss: 0.1232, Accuracy: 9612/10000 (96%)\n",
      "\n",
      "Train Epoch: 9 [0/60000 (0%)]\tLoss: 0.173217\n",
      "Train Epoch: 9 [3200/60000 (5%)]\tLoss: 0.115689\n",
      "Train Epoch: 9 [6400/60000 (11%)]\tLoss: 0.313276\n",
      "Train Epoch: 9 [9600/60000 (16%)]\tLoss: 0.303994\n",
      "Train Epoch: 9 [12800/60000 (21%)]\tLoss: 0.262761\n",
      "Train Epoch: 9 [16000/60000 (27%)]\tLoss: 0.162080\n",
      "Train Epoch: 9 [19200/60000 (32%)]\tLoss: 0.216564\n",
      "Train Epoch: 9 [22400/60000 (37%)]\tLoss: 0.088139\n",
      "Train Epoch: 9 [25600/60000 (43%)]\tLoss: 0.230872\n",
      "Train Epoch: 9 [28800/60000 (48%)]\tLoss: 0.239444\n",
      "Train Epoch: 9 [32000/60000 (53%)]\tLoss: 0.090749\n",
      "Train Epoch: 9 [35200/60000 (59%)]\tLoss: 0.263844\n",
      "Train Epoch: 9 [38400/60000 (64%)]\tLoss: 0.457902\n",
      "Train Epoch: 9 [41600/60000 (69%)]\tLoss: 0.103637\n",
      "Train Epoch: 9 [44800/60000 (75%)]\tLoss: 0.082141\n",
      "Train Epoch: 9 [48000/60000 (80%)]\tLoss: 0.100445\n",
      "Train Epoch: 9 [51200/60000 (85%)]\tLoss: 0.113310\n",
      "Train Epoch: 9 [54400/60000 (91%)]\tLoss: 0.048125\n",
      "Train Epoch: 9 [57600/60000 (96%)]\tLoss: 0.132583\n",
      "\n",
      "Validation set: Average loss: 0.1182, Accuracy: 9618/10000 (96%)\n",
      "\n",
      "Train Epoch: 10 [0/60000 (0%)]\tLoss: 0.140870\n",
      "Train Epoch: 10 [3200/60000 (5%)]\tLoss: 0.301614\n"
     ]
    },
    {
     "name": "stdout",
     "output_type": "stream",
     "text": [
      "Train Epoch: 10 [6400/60000 (11%)]\tLoss: 0.043288\n",
      "Train Epoch: 10 [9600/60000 (16%)]\tLoss: 0.112717\n",
      "Train Epoch: 10 [12800/60000 (21%)]\tLoss: 0.093079\n",
      "Train Epoch: 10 [16000/60000 (27%)]\tLoss: 0.168060\n",
      "Train Epoch: 10 [19200/60000 (32%)]\tLoss: 0.206318\n",
      "Train Epoch: 10 [22400/60000 (37%)]\tLoss: 0.483260\n",
      "Train Epoch: 10 [25600/60000 (43%)]\tLoss: 0.075813\n",
      "Train Epoch: 10 [28800/60000 (48%)]\tLoss: 0.364034\n",
      "Train Epoch: 10 [32000/60000 (53%)]\tLoss: 0.180531\n",
      "Train Epoch: 10 [35200/60000 (59%)]\tLoss: 0.537869\n",
      "Train Epoch: 10 [38400/60000 (64%)]\tLoss: 0.180226\n",
      "Train Epoch: 10 [41600/60000 (69%)]\tLoss: 0.099035\n",
      "Train Epoch: 10 [44800/60000 (75%)]\tLoss: 0.190709\n",
      "Train Epoch: 10 [48000/60000 (80%)]\tLoss: 0.173728\n",
      "Train Epoch: 10 [51200/60000 (85%)]\tLoss: 0.206690\n",
      "Train Epoch: 10 [54400/60000 (91%)]\tLoss: 0.085271\n",
      "Train Epoch: 10 [57600/60000 (96%)]\tLoss: 0.137211\n",
      "\n",
      "Validation set: Average loss: 0.1134, Accuracy: 9639/10000 (96%)\n",
      "\n",
      "CPU times: user 35 s, sys: 4.39 s, total: 39.4 s\n",
      "Wall time: 1min 11s\n"
     ]
    }
   ],
   "source": [
    "%%time\n",
    "epochs = 10\n",
    "\n",
    "lossv, accv = [], []\n",
    "for epoch in range(1, epochs + 1):\n",
    "    train(epoch)\n",
    "    validate(lossv, accv)"
   ]
  },
  {
   "cell_type": "markdown",
   "metadata": {},
   "source": [
    "Let's now visualize how the training progressed. \n",
    "\n",
    "* *Loss* is a function of the difference of the network output and the target values.  We are minimizing the loss function during training so it should decrease over time.\n",
    "* *Accuracy* is the classification accuracy for the test data."
   ]
  },
  {
   "cell_type": "code",
   "execution_count": 9,
   "metadata": {},
   "outputs": [
    {
     "data": {
      "image/png": "[encoded data removed]",
      "text/plain": [
       "<Figure size 360x216 with 1 Axes>"
      ]
     },
     "metadata": {
      "needs_background": "light"
     },
     "output_type": "display_data"
    },
    {
     "data": {
      "image/png": "[encoded data removed]",
      "text/plain": [
       "<Figure size 360x216 with 1 Axes>"
      ]
     },
     "metadata": {
      "needs_background": "light"
     },
     "output_type": "display_data"
    }
   ],
   "source": [
    "plt.figure(figsize=(5,3))\n",
    "plt.plot(np.arange(1,epochs+1), lossv)\n",
    "plt.title('validation loss')\n",
    "\n",
    "plt.figure(figsize=(5,3))\n",
    "plt.plot(np.arange(1,epochs+1), accv)\n",
    "plt.title('validation accuracy');"
   ]
  }
 ],
 "metadata": {
  "kernelspec": {
   "display_name": "Python 3",
   "language": "python",
   "name": "python3"
  },
  "language_info": {
   "codemirror_mode": {
    "name": "ipython",
    "version": 3
   },
   "file_extension": ".py",
   "mimetype": "text/x-python",
   "name": "python",
   "nbconvert_exporter": "python",
   "pygments_lexer": "ipython3",
   "version": "3.6.9"
  }
 },
 "nbformat": 4,
 "nbformat_minor": 2
}
